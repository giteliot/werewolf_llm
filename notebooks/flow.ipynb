{
 "cells": [
  {
   "cell_type": "markdown",
   "id": "9738e57e-a8f2-4215-9435-7f5991d9ed6f",
   "metadata": {},
   "source": [
    "### werewolf example\n",
    "\n",
    "\n",
    "**roles**\n",
    "- 7 players, p1,...,p7\n",
    "- p1,p2 werewolves\n",
    "- p3 nurse\n",
    "- p4 seer\n",
    "- p5, p6, p7 villagers\n",
    "\n",
    "**flow**\n",
    "\n",
    "\n",
    "it's NIGHT\n",
    "- werewolves open your eyes: vote who to kill;\n",
    "- seer open your eyes: vote who to reveal;\n",
    "- nurse open your eyes: vote who to save;\n",
    "\n",
    "it's DAY\n",
    "- reveal who was killed, if anyone; and reveail their role;\n",
    "- are there villagers left? if no \n",
    "- discuss and vote who to jail\n",
    "- if there is a majority, JAIL; reveal role of their role;\n",
    "- are there werewolves left? if no, game's over!"
   ]
  },
  {
   "cell_type": "markdown",
   "id": "8aa84f40-1332-4e48-a5ff-5094ad8dbd51",
   "metadata": {},
   "source": [
    "### state\n",
    "- public_events: narrator disclosures and jailing discussions\n",
    "- current_event\n",
    "- players: p_i\n",
    "\n",
    "### steps\n",
    "n0, n1, n2, d0, d1, d2_0,..., d2_n, d3, d4, d5, n0"
   ]
  },
  {
   "cell_type": "code",
   "execution_count": null,
   "id": "d09e05f5-d626-46f8-b3fb-f1cfdacceb33",
   "metadata": {},
   "outputs": [],
   "source": []
  }
 ],
 "metadata": {
  "kernelspec": {
   "display_name": "Python 3 (ipykernel)",
   "language": "python",
   "name": "python3"
  },
  "language_info": {
   "codemirror_mode": {
    "name": "ipython",
    "version": 3
   },
   "file_extension": ".py",
   "mimetype": "text/x-python",
   "name": "python",
   "nbconvert_exporter": "python",
   "pygments_lexer": "ipython3",
   "version": "3.11.8"
  }
 },
 "nbformat": 4,
 "nbformat_minor": 5
}
