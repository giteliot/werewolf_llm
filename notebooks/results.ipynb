{
 "cells": [
  {
   "cell_type": "code",
   "execution_count": 2,
   "id": "241512a5-7ce3-49dd-a445-30d7c804c944",
   "metadata": {},
   "outputs": [],
   "source": [
    "import pandas as pd"
   ]
  },
  {
   "cell_type": "code",
   "execution_count": 5,
   "id": "0571be59-7127-4567-bee8-f871b194f9cc",
   "metadata": {},
   "outputs": [],
   "source": [
    "def is_winner(role, winner):\n",
    "    if winner == \"Werewolves\":\n",
    "        return role == \"Werewolf\"\n",
    "    return role != \"Werewolf\"\n",
    "    \n",
    "\n",
    "def load_final_results(file_path, game_id):\n",
    "    with open(file_path, 'r') as file:\n",
    "        res = [[l.strip() for l in line.split(\":\", 1)] for line in file][-6:]\n",
    "    winner = res[0][1]\n",
    "\n",
    "    out = []\n",
    "    for name, role in res[1:]:\n",
    "        out.append([game_id, name, role, is_winner(role, winner)])\n",
    "    return out"
   ]
  },
  {
   "cell_type": "code",
   "execution_count": 4,
   "id": "b30fcc05-31b2-4a72-b7be-51ee40d16308",
   "metadata": {},
   "outputs": [
    {
     "data": {
      "text/html": [
       "<div>\n",
       "<style scoped>\n",
       "    .dataframe tbody tr th:only-of-type {\n",
       "        vertical-align: middle;\n",
       "    }\n",
       "\n",
       "    .dataframe tbody tr th {\n",
       "        vertical-align: top;\n",
       "    }\n",
       "\n",
       "    .dataframe thead th {\n",
       "        text-align: right;\n",
       "    }\n",
       "</style>\n",
       "<table border=\"1\" class=\"dataframe\">\n",
       "  <thead>\n",
       "    <tr style=\"text-align: right;\">\n",
       "      <th></th>\n",
       "      <th>game_id</th>\n",
       "      <th>name</th>\n",
       "      <th>role</th>\n",
       "      <th>is_winner</th>\n",
       "    </tr>\n",
       "  </thead>\n",
       "  <tbody>\n",
       "    <tr>\n",
       "      <th>0</th>\n",
       "      <td>0</td>\n",
       "      <td>gpt4</td>\n",
       "      <td>Werewolf</td>\n",
       "      <td>False</td>\n",
       "    </tr>\n",
       "    <tr>\n",
       "      <th>1</th>\n",
       "      <td>0</td>\n",
       "      <td>gemini</td>\n",
       "      <td>Villager</td>\n",
       "      <td>True</td>\n",
       "    </tr>\n",
       "    <tr>\n",
       "      <th>2</th>\n",
       "      <td>0</td>\n",
       "      <td>grok</td>\n",
       "      <td>Villager</td>\n",
       "      <td>True</td>\n",
       "    </tr>\n",
       "    <tr>\n",
       "      <th>3</th>\n",
       "      <td>0</td>\n",
       "      <td>deepseek</td>\n",
       "      <td>Seer</td>\n",
       "      <td>True</td>\n",
       "    </tr>\n",
       "    <tr>\n",
       "      <th>4</th>\n",
       "      <td>0</td>\n",
       "      <td>human</td>\n",
       "      <td>Doctor</td>\n",
       "      <td>True</td>\n",
       "    </tr>\n",
       "  </tbody>\n",
       "</table>\n",
       "</div>"
      ],
      "text/plain": [
       "   game_id      name      role  is_winner\n",
       "0        0      gpt4  Werewolf      False\n",
       "1        0    gemini  Villager       True\n",
       "2        0      grok  Villager       True\n",
       "3        0  deepseek      Seer       True\n",
       "4        0     human    Doctor       True"
      ]
     },
     "execution_count": 4,
     "metadata": {},
     "output_type": "execute_result"
    }
   ],
   "source": [
    "import os\n",
    "\n",
    "out = []\n",
    "\n",
    "BASE = '../results'\n",
    "game_id = 0\n",
    "for dirpath, dirnames, filenames in os.walk(BASE):\n",
    "    for filename in filenames:\n",
    "        if filename.endswith('.txt'):\n",
    "            out = out+load_final_results(os.path.join(dirpath, filename), game_id)\n",
    "            game_id = game_id+1\n",
    "\n",
    "df = pd.DataFrame(out, columns=['game_id', 'name', 'role', 'is_winner'])\n",
    "df.to_csv('results.csv', index=None)\n",
    "df.head()"
   ]
  },
  {
   "cell_type": "code",
   "execution_count": 56,
   "id": "e520614b-4453-42bd-a690-582684434912",
   "metadata": {},
   "outputs": [
    {
     "data": {
      "image/png": "[encoded data removed]",
      "text/plain": [
       "<Figure size 1000x600 with 1 Axes>"
      ]
     },
     "metadata": {},
     "output_type": "display_data"
    }
   ],
   "source": [
    "import pandas as pd\n",
    "import matplotlib.pyplot as plt\n",
    "\n",
    "# Load the data\n",
    "# df = pd.read_csv('results.csv')\n",
    "\n",
    "# Count wins for each player\n",
    "player_wins = df[df['is_winner'] == True]['name'].value_counts()\n",
    "\n",
    "# Create a figure and axis\n",
    "plt.figure(figsize=(10, 6))\n",
    "\n",
    "# Create bar chart using plt.bar\n",
    "plt.barh(player_wins.index, player_wins.values, color='skyblue')\n",
    "\n",
    "# Add labels and title\n",
    "plt.title('Total Wins by Player')\n",
    "plt.xlabel('Number of Wins')\n",
    "plt.ylabel('Player')\n",
    "\n",
    "# Ensure tight layout\n",
    "plt.tight_layout()\n",
    "\n",
    "# plt.savefig('player_wins.png')\n",
    "\n",
    "# Display the plot\n",
    "plt.show()"
   ]
  },
  {
   "cell_type": "code",
   "execution_count": 57,
   "id": "4ec86e5f-db26-44a1-b984-539734c7616c",
   "metadata": {},
   "outputs": [
    {
     "data": {
      "text/plain": [
       "name\n",
       "grok        8\n",
       "gemini      8\n",
       "sonnet      8\n",
       "deepseek    8\n",
       "gpt4        8\n",
       "Name: count, dtype: int64"
      ]
     },
     "execution_count": 57,
     "metadata": {},
     "output_type": "execute_result"
    }
   ],
   "source": [
    "df[df['role'] == 'Werewolf']['name'].value_counts()"
   ]
  },
  {
   "cell_type": "code",
   "execution_count": 76,
   "id": "637dd91a-8f56-403b-9229-a793ef8916b5",
   "metadata": {},
   "outputs": [
    {
     "data": {
      "image/png": "[encoded data removed]",
      "text/plain": [
       "<Figure size 1000x600 with 1 Axes>"
      ]
     },
     "metadata": {},
     "output_type": "display_data"
    }
   ],
   "source": [
    "import pandas as pd\n",
    "import matplotlib.pyplot as plt\n",
    "\n",
    "# Load the data\n",
    "df = pd.read_csv('results.csv')\n",
    "\n",
    "# Count wins for each player\n",
    "player_wins = df[(df['is_winner'] == True) & (df['role'] == 'Werewolf')]['name'].value_counts()\n",
    "\n",
    "# Create a figure and axis\n",
    "plt.figure(figsize=(10, 6))\n",
    "\n",
    "# Create bar chart using plt.bar\n",
    "plt.barh(player_wins.index, player_wins.values, color='skyblue')\n",
    "\n",
    "# Add labels and title\n",
    "plt.title('Total Wins by Player')\n",
    "plt.xlabel('Number of Wins')\n",
    "plt.ylabel('Player')\n",
    "\n",
    "# Ensure tight layout\n",
    "plt.tight_layout()\n",
    "\n",
    "# plt.savefig('player_wins.png')\n",
    "\n",
    "# Display the plot\n",
    "plt.show()"
   ]
  },
  {
   "cell_type": "code",
   "execution_count": 1,
   "id": "b3460595-e4bf-4153-917c-5272f81eea69",
   "metadata": {},
   "outputs": [
    {
     "name": "stdout",
     "output_type": "stream",
     "text": [
      "0.13409362552738457\n"
     ]
    }
   ],
   "source": [
    "from scipy.stats import binomtest\n",
    "\n",
    "wins = 24\n",
    "games_played = 40\n",
    "expected_win_rate = 0.5\n",
    "\n",
    "result = binomtest(wins, games_played, p=expected_win_rate, alternative='greater')\n",
    "print(result.pvalue)"
   ]
  },
  {
   "cell_type": "code",
   "execution_count": 6,
   "id": "a1145b5c-7bbb-488d-9347-d3baa32a7f4f",
   "metadata": {},
   "outputs": [
    {
     "data": {
      "text/html": [
       "<div>\n",
       "<style scoped>\n",
       "    .dataframe tbody tr th:only-of-type {\n",
       "        vertical-align: middle;\n",
       "    }\n",
       "\n",
       "    .dataframe tbody tr th {\n",
       "        vertical-align: top;\n",
       "    }\n",
       "\n",
       "    .dataframe thead th {\n",
       "        text-align: right;\n",
       "    }\n",
       "</style>\n",
       "<table border=\"1\" class=\"dataframe\">\n",
       "  <thead>\n",
       "    <tr style=\"text-align: right;\">\n",
       "      <th></th>\n",
       "      <th>game_id</th>\n",
       "      <th>name</th>\n",
       "      <th>role</th>\n",
       "      <th>is_winner</th>\n",
       "    </tr>\n",
       "  </thead>\n",
       "  <tbody>\n",
       "    <tr>\n",
       "      <th>0</th>\n",
       "      <td>0</td>\n",
       "      <td>gpt4</td>\n",
       "      <td>Werewolf</td>\n",
       "      <td>False</td>\n",
       "    </tr>\n",
       "    <tr>\n",
       "      <th>1</th>\n",
       "      <td>0</td>\n",
       "      <td>gemini</td>\n",
       "      <td>Villager</td>\n",
       "      <td>True</td>\n",
       "    </tr>\n",
       "    <tr>\n",
       "      <th>2</th>\n",
       "      <td>0</td>\n",
       "      <td>grok</td>\n",
       "      <td>Villager</td>\n",
       "      <td>True</td>\n",
       "    </tr>\n",
       "    <tr>\n",
       "      <th>3</th>\n",
       "      <td>0</td>\n",
       "      <td>deepseek</td>\n",
       "      <td>Seer</td>\n",
       "      <td>True</td>\n",
       "    </tr>\n",
       "    <tr>\n",
       "      <th>4</th>\n",
       "      <td>0</td>\n",
       "      <td>human</td>\n",
       "      <td>Doctor</td>\n",
       "      <td>True</td>\n",
       "    </tr>\n",
       "  </tbody>\n",
       "</table>\n",
       "</div>"
      ],
      "text/plain": [
       "   game_id      name      role  is_winner\n",
       "0        0      gpt4  Werewolf      False\n",
       "1        0    gemini  Villager       True\n",
       "2        0      grok  Villager       True\n",
       "3        0  deepseek      Seer       True\n",
       "4        0     human    Doctor       True"
      ]
     },
     "execution_count": 6,
     "metadata": {},
     "output_type": "execute_result"
    }
   ],
   "source": [
    "import os\n",
    "\n",
    "out = []\n",
    "\n",
    "BASE = '../results'\n",
    "game_id = 0\n",
    "# Only process files directly in the BASE directory, not in subfolders\n",
    "for filename in os.listdir(BASE):\n",
    "    if filename.endswith('.txt') and os.path.isfile(os.path.join(BASE, filename)):\n",
    "        out = out+load_final_results(os.path.join(BASE, filename), game_id)\n",
    "        game_id = game_id+1\n",
    "\n",
    "df = pd.DataFrame(out, columns=['game_id', 'name', 'role', 'is_winner'])\n",
    "df.to_csv('results.csv', index=None)\n",
    "df.head()"
   ]
  },
  {
   "cell_type": "code",
   "execution_count": 20,
   "id": "9c3108dd",
   "metadata": {},
   "outputs": [
    {
     "data": {
      "image/png": "[encoded data removed]",
      "text/plain": [
       "<Figure size 1000x600 with 1 Axes>"
      ]
     },
     "metadata": {},
     "output_type": "display_data"
    }
   ],
   "source": [
    "import pandas as pd\n",
    "import matplotlib.pyplot as plt\n",
    "\n",
    "# Load the data\n",
    "# df = pd.read_csv('results.csv')\n",
    "\n",
    "# Count wins for each player\n",
    "player_wins = df[df['is_winner'] == True]['name'].value_counts()\n",
    "\n",
    "# Create a figure and axis\n",
    "plt.figure(figsize=(10, 6))\n",
    "\n",
    "# Create bar chart using plt.bar with values displayed in the bars\n",
    "bars = plt.barh(player_wins.index, player_wins.values, color='skyblue')\n",
    "\n",
    "# Add the values inside the bars\n",
    "for bar in bars:\n",
    "    width = bar.get_width()\n",
    "    plt.text(width/2, bar.get_y() + bar.get_height()/2, \n",
    "             f'{int(width)}', ha='center', va='center')\n",
    "\n",
    "# Add labels and title\n",
    "plt.title('Total Wins by Player')\n",
    "plt.xlabel(f'Number of Wins (out of {df[df[\"name\"] == \"human\"][\"game_id\"].count()})')\n",
    "plt.ylabel('Player')\n",
    "\n",
    "# Ensure tight layout\n",
    "plt.tight_layout()\n",
    "\n",
    "plt.savefig('hu_vs_ai.png')\n",
    "\n",
    "# Display the plot\n",
    "plt.show()"
   ]
  },
  {
   "cell_type": "code",
   "execution_count": 16,
   "id": "eb5e0e40",
   "metadata": {},
   "outputs": [
    {
     "data": {
      "text/plain": [
       "10"
      ]
     },
     "execution_count": 16,
     "metadata": {},
     "output_type": "execute_result"
    }
   ],
   "source": [
    "df[df[\"name\"] == \"human\"]['game_id'].count()"
   ]
  },
  {
   "cell_type": "code",
   "execution_count": null,
   "id": "2b2741d5",
   "metadata": {},
   "outputs": [],
   "source": []
  }
 ],
 "metadata": {
  "kernelspec": {
   "display_name": "notebooks",
   "language": "python",
   "name": "python3"
  },
  "language_info": {
   "codemirror_mode": {
    "name": "ipython",
    "version": 3
   },
   "file_extension": ".py",
   "mimetype": "text/x-python",
   "name": "python",
   "nbconvert_exporter": "python",
   "pygments_lexer": "ipython3",
   "version": "3.11.8"
  }
 },
 "nbformat": 4,
 "nbformat_minor": 5
}
