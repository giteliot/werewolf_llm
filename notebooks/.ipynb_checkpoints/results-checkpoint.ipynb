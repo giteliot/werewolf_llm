{
 "cells": [
  {
   "cell_type": "code",
   "execution_count": 1,
   "id": "241512a5-7ce3-49dd-a445-30d7c804c944",
   "metadata": {},
   "outputs": [],
   "source": [
    "import pandas as pd"
   ]
  },
  {
   "cell_type": "code",
   "execution_count": 2,
   "id": "0571be59-7127-4567-bee8-f871b194f9cc",
   "metadata": {},
   "outputs": [],
   "source": [
    "def is_winner(role, winner):\n",
    "    if winner == \"Werewolves\":\n",
    "        return role == \"Werewolf\"\n",
    "    return role != \"Werewolf\"\n",
    "    \n",
    "\n",
    "def load_final_results(file_path, game_id):\n",
    "    with open(file_path, 'r') as file:\n",
    "        res = [[l.strip() for l in line.split(\":\", 1)] for line in file][-6:]\n",
    "    winner = res[0][1]\n",
    "\n",
    "    out = []\n",
    "    for name, role in res[1:]:\n",
    "        roles[name] = role\n",
    "        out.append([game_id, name, role, is_winner(role, winner)])\n",
    "    return out"
   ]
  },
  {
   "cell_type": "code",
   "execution_count": 4,
   "id": "b30fcc05-31b2-4a72-b7be-51ee40d16308",
   "metadata": {},
   "outputs": [
    {
     "data": {
      "text/plain": [
       "('Werewolves',\n",
       " ['grok', 'gemini', 'deepseek', 'gpt4'],\n",
       " ['sonnet'],\n",
       " {'sonnet': 'Werewolf',\n",
       "  'grok': 'Villager',\n",
       "  'gemini': 'Villager',\n",
       "  'deepseek': 'Seer',\n",
       "  'gpt4': 'Doctor'})"
      ]
     },
     "execution_count": 4,
     "metadata": {},
     "output_type": "execute_result"
    }
   ],
   "source": [
    "import os\n",
    "\n",
    "game_id = 0\n",
    "def process_all_txt_files(root_dir):\n",
    "    for dirpath, dirnames, filenames in os.walk(root_dir):\n",
    "        for filename in filenames:\n",
    "            if filename.endswith('.txt'):\n",
    "                load_final_results('../results/20250311_212750.txt')"
   ]
  },
  {
   "cell_type": "code",
   "execution_count": null,
   "id": "1aef55fa-edb8-48d9-903e-bd7c530669a5",
   "metadata": {},
   "outputs": [],
   "source": []
  }
 ],
 "metadata": {
  "kernelspec": {
   "display_name": "Python 3 (ipykernel)",
   "language": "python",
   "name": "python3"
  },
  "language_info": {
   "codemirror_mode": {
    "name": "ipython",
    "version": 3
   },
   "file_extension": ".py",
   "mimetype": "text/x-python",
   "name": "python",
   "nbconvert_exporter": "python",
   "pygments_lexer": "ipython3",
   "version": "3.11.8"
  }
 },
 "nbformat": 4,
 "nbformat_minor": 5
}
